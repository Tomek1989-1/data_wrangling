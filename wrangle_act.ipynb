{
 "cells": [
  {
   "cell_type": "markdown",
   "id": "55a8a4bb",
   "metadata": {},
   "source": [
    "# Wrangling and Analyze Data"
   ]
  },
  {
   "cell_type": "markdown",
   "id": "faf4df43",
   "metadata": {},
   "source": [
    "## Table of Contents\n",
    "- [Introduction](#intro)\n",
    "- [Part I - Data Gathering](#part1)\n",
    "- [Part II - Assesing Data](#part2)\n",
    "- [Part III - Cleaning Data](#part3)\n",
    "- [Part IV - Storing Data](#part4)\n",
    "- [Part V - Analyzing and Visualizing Data](#part5)"
   ]
  },
  {
   "cell_type": "markdown",
   "id": "a89279eb",
   "metadata": {},
   "source": [
    "<a id='intro'></a>\n",
    "# Introduction"
   ]
  },
  {
   "cell_type": "markdown",
   "id": "d6671522",
   "metadata": {},
   "source": [
    "The main goal of this project is to gather, clean and analyze data related to the Twitter user @dog_rates, also known as WeRateDogs. WeRateDogs is a Twitter account that rates people's dogs with a humorous comment about the dog.<br>\n",
    "Data from multiple sources (Twitter's archive, Twitter's API and .tsv file) will be gathered and combined into one dataframe in order to make some insights and visualizations."
   ]
  },
  {
   "cell_type": "markdown",
   "id": "bc6a5cb1",
   "metadata": {},
   "source": [
    "------------"
   ]
  },
  {
   "cell_type": "markdown",
   "id": "89c5e0d7",
   "metadata": {},
   "source": [
    "<a id='part1'></a>\n",
    "# Data Gathering"
   ]
  },
  {
   "cell_type": "code",
   "execution_count": 1,
   "id": "b1ed76a0",
   "metadata": {},
   "outputs": [],
   "source": [
    "import pandas as pd\n",
    "import numpy as np\n",
    "import requests\n",
    "import json"
   ]
  },
  {
   "cell_type": "code",
   "execution_count": 2,
   "id": "1c864798",
   "metadata": {},
   "outputs": [],
   "source": [
    "pd.options.display.max_rows = 3000"
   ]
  },
  {
   "cell_type": "markdown",
   "id": "487c7436",
   "metadata": {},
   "source": [
    "#### The WeRateDogs Twitter archive data"
   ]
  },
  {
   "cell_type": "code",
   "execution_count": 3,
   "id": "074b9a01",
   "metadata": {},
   "outputs": [],
   "source": [
    "dataframe_twitter = pd.read_csv('twitter-archive-enhanced.csv')"
   ]
  },
  {
   "cell_type": "markdown",
   "id": "71db52cf",
   "metadata": {},
   "source": [
    "#### The tweet image predictions data"
   ]
  },
  {
   "cell_type": "code",
   "execution_count": 4,
   "id": "f02cc98b",
   "metadata": {},
   "outputs": [],
   "source": [
    "URL = 'https://d17h27t6h515a5.cloudfront.net/topher/2017/August/599fd2ad_image-predictions/image-predictions.tsv'"
   ]
  },
  {
   "cell_type": "code",
   "execution_count": 5,
   "id": "b22af4e0",
   "metadata": {},
   "outputs": [],
   "source": [
    "response = requests.get(URL)"
   ]
  },
  {
   "cell_type": "code",
   "execution_count": 6,
   "id": "00405d9c",
   "metadata": {},
   "outputs": [],
   "source": [
    "with open (URL.split('/')[-1], mode = 'wb') as file:\n",
    "    file.write(response.content)"
   ]
  },
  {
   "cell_type": "code",
   "execution_count": 7,
   "id": "27c6cbd0",
   "metadata": {},
   "outputs": [],
   "source": [
    "dataframe_image = pd.read_csv('image-predictions.tsv', sep='\\t')"
   ]
  },
  {
   "cell_type": "markdown",
   "id": "9d20587a",
   "metadata": {},
   "source": [
    "#### Additional data from the Twitter API"
   ]
  },
  {
   "cell_type": "code",
   "execution_count": null,
   "id": "e4a35442",
   "metadata": {},
   "outputs": [],
   "source": [
    "import tweepy\n",
    "from tweepy import OAuthHandler\n",
    "import json\n",
    "from timeit import default_timer as timer\n",
    "\n",
    "consumer_key = 'HIDDEN'\n",
    "consumer_secret = 'HIDDEN'\n",
    "access_token = 'HIDDEN'\n",
    "access_secret = 'HIDDEN'\n",
    "\n",
    "auth = OAuthHandler(consumer_key, consumer_secret)\n",
    "auth.set_access_token(access_token, access_secret)\n",
    "\n",
    "api = tweepy.API(auth, wait_on_rate_limit=True)\n",
    "\n",
    "tweet_ids = dataframe_twitter.tweet_id.values\n",
    "len(tweet_ids)\n",
    "\n",
    "count = 0\n",
    "fails_dict = {}\n",
    "start = timer()\n",
    "with open('tweet_json.txt', 'w') as outfile:\n",
    "    for tweet_id in tweet_ids:\n",
    "        count += 1\n",
    "        print(str(count) + \": \" + str(tweet_id))\n",
    "        try:\n",
    "            tweet = api.get_status(tweet_id, tweet_mode='extended')\n",
    "            print(\"Success\")\n",
    "            json.dump(tweet._json, outfile)\n",
    "            outfile.write('\\n')\n",
    "        except tweepy.TweepError as e:\n",
    "            print(\"Fail\")\n",
    "            fails_dict[tweet_id] = e\n",
    "            pass\n",
    "end = timer()\n",
    "print(end - start)\n",
    "print(fails_dict)"
   ]
  },
  {
   "cell_type": "code",
   "execution_count": 8,
   "id": "a2dedae1",
   "metadata": {},
   "outputs": [],
   "source": [
    "json_data = [json.loads(line) for line in open('tweet-json.txt', 'r')]"
   ]
  },
  {
   "cell_type": "code",
   "execution_count": 9,
   "id": "8efa9346",
   "metadata": {},
   "outputs": [],
   "source": [
    "data = []"
   ]
  },
  {
   "cell_type": "code",
   "execution_count": 10,
   "id": "58254fc1",
   "metadata": {},
   "outputs": [],
   "source": [
    "for i in range(len(json_data)):\n",
    "    a = json_data[i]['id']\n",
    "    b = json_data[i]['retweet_count']\n",
    "    c = json_data[i]['favorite_count']\n",
    "    data.append([a,b,c])"
   ]
  },
  {
   "cell_type": "code",
   "execution_count": 11,
   "id": "770dcff4",
   "metadata": {},
   "outputs": [],
   "source": [
    "dataframe_api = pd.DataFrame(data, columns=['id','retweet_count','favorite_count'])"
   ]
  },
  {
   "cell_type": "markdown",
   "id": "f30ae87f",
   "metadata": {},
   "source": [
    "-------------------------------------------------"
   ]
  },
  {
   "cell_type": "markdown",
   "id": "660b9ccb",
   "metadata": {},
   "source": [
    "<a id='part2'></a>\n",
    "# Assesing Data"
   ]
  },
  {
   "cell_type": "markdown",
   "id": "aae4eb69",
   "metadata": {},
   "source": [
    "## Visual assessment"
   ]
  },
  {
   "cell_type": "code",
   "execution_count": null,
   "id": "5bc648a3",
   "metadata": {},
   "outputs": [],
   "source": [
    "dataframe_twitter.head()"
   ]
  },
  {
   "cell_type": "code",
   "execution_count": null,
   "id": "a07482b3",
   "metadata": {},
   "outputs": [],
   "source": [
    "dataframe_image.head()"
   ]
  },
  {
   "cell_type": "code",
   "execution_count": null,
   "id": "02b414d2",
   "metadata": {},
   "outputs": [],
   "source": [
    "dataframe_api.head()"
   ]
  },
  {
   "cell_type": "markdown",
   "id": "7847290c",
   "metadata": {},
   "source": [
    "## Programmatic assessement"
   ]
  },
  {
   "cell_type": "code",
   "execution_count": null,
   "id": "e2485e94",
   "metadata": {},
   "outputs": [],
   "source": [
    "dataframe_twitter.info()"
   ]
  },
  {
   "cell_type": "code",
   "execution_count": null,
   "id": "b6a2796f",
   "metadata": {},
   "outputs": [],
   "source": [
    "dataframe_twitter.describe()"
   ]
  },
  {
   "cell_type": "code",
   "execution_count": null,
   "id": "5fea6a5b",
   "metadata": {},
   "outputs": [],
   "source": [
    "dataframe_image.info()"
   ]
  },
  {
   "cell_type": "code",
   "execution_count": null,
   "id": "8a9339f2",
   "metadata": {},
   "outputs": [],
   "source": [
    "dataframe_image.describe()"
   ]
  },
  {
   "cell_type": "code",
   "execution_count": null,
   "id": "356bfb9c",
   "metadata": {},
   "outputs": [],
   "source": [
    "dataframe_api.info()"
   ]
  },
  {
   "cell_type": "code",
   "execution_count": null,
   "id": "94d75ce2",
   "metadata": {},
   "outputs": [],
   "source": [
    "dataframe_api.describe()"
   ]
  },
  {
   "cell_type": "markdown",
   "id": "a4b09c09",
   "metadata": {},
   "source": [
    "## Quality issues"
   ]
  },
  {
   "cell_type": "markdown",
   "id": "163e91e3",
   "metadata": {},
   "source": [
    "dataframe_twitter:<br>\n",
    "1. 'timestamp' column should have 'datetime' data type instead of 'object'<br>\n",
    "2. 'retweeted_status_timestamp' column should have 'datetime' data type instead of 'object'<br>\n",
    "3. retweets should be removed from the dataframe<br>\n",
    "4. couple of tweets have rating_numerator value large or small enough to treat them as outliers<br>\n",
    "5. couple of tweets have rating_denominator not equals to 10<br>\n",
    "6. 'rating_numerator' for row 45 should be 13.5 instead of 5<br>\n",
    "7. 'rating_numerator' and 'rating_denominator' for line 2335 should be 9 and 10 respectively insted of 1 and 2<br>\n",
    "8. dog's name in line 118 should be 'None' instead of 'quite'<br>\n",
    "9. all 'None' values in 'name' column should represent missing value"
   ]
  },
  {
   "cell_type": "markdown",
   "id": "c08bdb8f",
   "metadata": {},
   "source": [
    "## Tidiness issues"
   ]
  },
  {
   "cell_type": "markdown",
   "id": "051b2f18",
   "metadata": {},
   "source": [
    "10. 'doggo', 'floofer', 'pupper', 'puppo' columns of dataframe_twitter dataframe should be combined into one column<br>\n",
    "11. Information about dog's breed can be found in three different columns of dataframe_image dataframe ('p1','p2','p3')<br>\n",
    "12. One dataframe instead of three would be sufficient"
   ]
  },
  {
   "cell_type": "markdown",
   "id": "b7d3b0f4",
   "metadata": {},
   "source": [
    "--------------------------------------"
   ]
  },
  {
   "cell_type": "markdown",
   "id": "8b712a9e",
   "metadata": {},
   "source": [
    "<a id='part3'></a>\n",
    "# Cleaning Data"
   ]
  },
  {
   "cell_type": "markdown",
   "id": "957ffbfd",
   "metadata": {},
   "source": [
    "## dataframes' copies:"
   ]
  },
  {
   "cell_type": "code",
   "execution_count": 12,
   "id": "109788da",
   "metadata": {},
   "outputs": [],
   "source": [
    "df_twitter = dataframe_twitter.copy()"
   ]
  },
  {
   "cell_type": "code",
   "execution_count": 13,
   "id": "63164079",
   "metadata": {},
   "outputs": [],
   "source": [
    "df_image = dataframe_image.copy()"
   ]
  },
  {
   "cell_type": "code",
   "execution_count": 14,
   "id": "7a1b1829",
   "metadata": {},
   "outputs": [],
   "source": [
    "df_api = dataframe_api.copy()"
   ]
  },
  {
   "cell_type": "markdown",
   "id": "dfe1706d",
   "metadata": {},
   "source": [
    "## Issue #3:"
   ]
  },
  {
   "cell_type": "markdown",
   "id": "a5598dde",
   "metadata": {},
   "source": [
    "### Define:"
   ]
  },
  {
   "cell_type": "markdown",
   "id": "aecc06be",
   "metadata": {},
   "source": [
    "Retweets should be removed from the dataframe."
   ]
  },
  {
   "cell_type": "markdown",
   "id": "0dbb2bfe",
   "metadata": {},
   "source": [
    "### Code:"
   ]
  },
  {
   "cell_type": "code",
   "execution_count": 15,
   "id": "17a6edf0",
   "metadata": {},
   "outputs": [],
   "source": [
    "df_twitter = df_twitter[df_twitter.retweeted_status_id.isnull()]"
   ]
  },
  {
   "cell_type": "markdown",
   "id": "6b32249b",
   "metadata": {},
   "source": [
    "### Test:"
   ]
  },
  {
   "cell_type": "code",
   "execution_count": 16,
   "id": "e0b73595",
   "metadata": {},
   "outputs": [
    {
     "data": {
      "text/plain": [
       "0"
      ]
     },
     "execution_count": 16,
     "metadata": {},
     "output_type": "execute_result"
    }
   ],
   "source": [
    "df_twitter.retweeted_status_id.notnull().sum()"
   ]
  },
  {
   "cell_type": "markdown",
   "id": "1277bccf",
   "metadata": {},
   "source": [
    "## Issues #1, #2, #6, #7, #8:"
   ]
  },
  {
   "cell_type": "markdown",
   "id": "46147dd8",
   "metadata": {},
   "source": [
    "### Define:"
   ]
  },
  {
   "cell_type": "markdown",
   "id": "55eedf1b",
   "metadata": {},
   "source": [
    "- data type in 'retweeted_status_timestamp' and 'timestamp' columns should be corrected to datetime data type"
   ]
  },
  {
   "cell_type": "markdown",
   "id": "75d69cae",
   "metadata": {},
   "source": [
    "- 'rating_numerator' for row 45 should be 13.5 instead of 5"
   ]
  },
  {
   "cell_type": "markdown",
   "id": "5244b7f3",
   "metadata": {},
   "source": [
    "- 'rating_numerator' and 'rating_denominator' for line 2335 should be 9 and 10 respectively insted of 1 and 2"
   ]
  },
  {
   "cell_type": "markdown",
   "id": "0d0a3a90",
   "metadata": {},
   "source": [
    "- dog's name in line 118 should be 'None' instead of 'quite'"
   ]
  },
  {
   "cell_type": "markdown",
   "id": "dafc2299",
   "metadata": {},
   "source": [
    "### Code:"
   ]
  },
  {
   "cell_type": "code",
   "execution_count": 17,
   "id": "46d0ea4c",
   "metadata": {},
   "outputs": [],
   "source": [
    "df_twitter['timestamp'] = pd.to_datetime(df_twitter['timestamp'])\n",
    "df_twitter['retweeted_status_timestamp'] = pd.to_datetime(df_twitter['retweeted_status_timestamp'])"
   ]
  },
  {
   "cell_type": "code",
   "execution_count": 18,
   "id": "3f315796",
   "metadata": {},
   "outputs": [],
   "source": [
    "df_twitter.loc[45, 'rating_numerator'] = 13.5"
   ]
  },
  {
   "cell_type": "code",
   "execution_count": 19,
   "id": "ab67e88d",
   "metadata": {},
   "outputs": [],
   "source": [
    "df_twitter.loc[2335, 'rating_numerator'] = 9\n",
    "df_twitter.loc[2335, 'rating_denominator'] = 10"
   ]
  },
  {
   "cell_type": "code",
   "execution_count": 20,
   "id": "82c2355d",
   "metadata": {},
   "outputs": [],
   "source": [
    "df_twitter.loc[118, 'name'] = 'None'"
   ]
  },
  {
   "cell_type": "markdown",
   "id": "7171df9c",
   "metadata": {},
   "source": [
    "### Test:"
   ]
  },
  {
   "cell_type": "code",
   "execution_count": null,
   "id": "540dd466",
   "metadata": {},
   "outputs": [],
   "source": [
    "df_twitter.info()"
   ]
  },
  {
   "cell_type": "code",
   "execution_count": null,
   "id": "90c4b869",
   "metadata": {},
   "outputs": [],
   "source": [
    "df_twitter.loc[45]"
   ]
  },
  {
   "cell_type": "code",
   "execution_count": null,
   "id": "4bcce87e",
   "metadata": {},
   "outputs": [],
   "source": [
    "df_twitter.loc[2335]"
   ]
  },
  {
   "cell_type": "code",
   "execution_count": null,
   "id": "c2dd3eb0",
   "metadata": {},
   "outputs": [],
   "source": [
    "df_twitter.loc[118]"
   ]
  },
  {
   "cell_type": "markdown",
   "id": "dafbef92",
   "metadata": {},
   "source": [
    "## Issue #4:"
   ]
  },
  {
   "cell_type": "markdown",
   "id": "e36286c3",
   "metadata": {},
   "source": [
    "### Define:"
   ]
  },
  {
   "cell_type": "markdown",
   "id": "3208b1c0",
   "metadata": {},
   "source": [
    "Couple of tweets have rating_numerator value large or small enough to treat them as outliers.<br>\n",
    "I will remove all the rows with rating_numerator value smaller than Q1-1.5\\*IQR and larger than Q3+1.5\\*IQR where Q1 and Q3 are first and third quartile respectively and IQR equals Q3-Q1.<br>"
   ]
  },
  {
   "cell_type": "markdown",
   "id": "c79c5dce",
   "metadata": {},
   "source": [
    "### Code:"
   ]
  },
  {
   "cell_type": "code",
   "execution_count": 21,
   "id": "50a4f8b0",
   "metadata": {},
   "outputs": [],
   "source": [
    "IQR = df_twitter.rating_numerator.quantile(0.75) - df_twitter.rating_numerator.quantile(0.25)"
   ]
  },
  {
   "cell_type": "code",
   "execution_count": 22,
   "id": "55a59358",
   "metadata": {},
   "outputs": [],
   "source": [
    "numerator_upper_limit = df_twitter.rating_numerator.quantile(0.75) + 1.5*IQR\n",
    "numerator_lower_limit = df_twitter.rating_numerator.quantile(0.25) - 1.5*IQR"
   ]
  },
  {
   "cell_type": "code",
   "execution_count": 23,
   "id": "fc4f2dad",
   "metadata": {},
   "outputs": [],
   "source": [
    "df_twitter = df_twitter[df_twitter.rating_numerator < numerator_upper_limit]\n",
    "df_twitter = df_twitter[df_twitter.rating_numerator > numerator_lower_limit]"
   ]
  },
  {
   "cell_type": "markdown",
   "id": "e8095404",
   "metadata": {},
   "source": [
    "### Test:"
   ]
  },
  {
   "cell_type": "code",
   "execution_count": null,
   "id": "54feb487",
   "metadata": {},
   "outputs": [],
   "source": [
    "df_twitter.rating_numerator.describe()"
   ]
  },
  {
   "cell_type": "markdown",
   "id": "23cd5a76",
   "metadata": {},
   "source": [
    "## Issue #5:"
   ]
  },
  {
   "cell_type": "markdown",
   "id": "d51a4f12",
   "metadata": {},
   "source": [
    "### Define:"
   ]
  },
  {
   "cell_type": "markdown",
   "id": "fe78c8e5",
   "metadata": {},
   "source": [
    "Couple of tweets have rating_denominator not equals to 10 which makes the rating_numerator impossible to interpret. I will update both rating_numerator and rating_denominator for these lines so that rating_denominator equals 10 and I will keep the same proportion between rating_numerator and rating_denominator."
   ]
  },
  {
   "cell_type": "code",
   "execution_count": 25,
   "id": "b1ef11a7",
   "metadata": {},
   "outputs": [
    {
     "data": {
      "text/html": [
       "<div>\n",
       "<style scoped>\n",
       "    .dataframe tbody tr th:only-of-type {\n",
       "        vertical-align: middle;\n",
       "    }\n",
       "\n",
       "    .dataframe tbody tr th {\n",
       "        vertical-align: top;\n",
       "    }\n",
       "\n",
       "    .dataframe thead th {\n",
       "        text-align: right;\n",
       "    }\n",
       "</style>\n",
       "<table border=\"1\" class=\"dataframe\">\n",
       "  <thead>\n",
       "    <tr style=\"text-align: right;\">\n",
       "      <th></th>\n",
       "      <th>tweet_id</th>\n",
       "      <th>in_reply_to_status_id</th>\n",
       "      <th>in_reply_to_user_id</th>\n",
       "      <th>timestamp</th>\n",
       "      <th>source</th>\n",
       "      <th>text</th>\n",
       "      <th>retweeted_status_id</th>\n",
       "      <th>retweeted_status_user_id</th>\n",
       "      <th>retweeted_status_timestamp</th>\n",
       "      <th>expanded_urls</th>\n",
       "      <th>rating_numerator</th>\n",
       "      <th>rating_denominator</th>\n",
       "      <th>name</th>\n",
       "      <th>doggo</th>\n",
       "      <th>floofer</th>\n",
       "      <th>pupper</th>\n",
       "      <th>puppo</th>\n",
       "    </tr>\n",
       "  </thead>\n",
       "  <tbody>\n",
       "    <tr>\n",
       "      <th>342</th>\n",
       "      <td>8.320886e+17</td>\n",
       "      <td>8.320875e+17</td>\n",
       "      <td>30582082.0</td>\n",
       "      <td>2017-02-16 04:45:50+00:00</td>\n",
       "      <td>&lt;a href=\"http://twitter.com/download/iphone\" r...</td>\n",
       "      <td>@docmisterio account started on 11/15/15</td>\n",
       "      <td>NaN</td>\n",
       "      <td>NaN</td>\n",
       "      <td>NaT</td>\n",
       "      <td>NaN</td>\n",
       "      <td>11.0</td>\n",
       "      <td>15.0</td>\n",
       "      <td>None</td>\n",
       "      <td>None</td>\n",
       "      <td>None</td>\n",
       "      <td>None</td>\n",
       "      <td>None</td>\n",
       "    </tr>\n",
       "    <tr>\n",
       "      <th>1068</th>\n",
       "      <td>7.403732e+17</td>\n",
       "      <td>NaN</td>\n",
       "      <td>NaN</td>\n",
       "      <td>2016-06-08 02:41:38+00:00</td>\n",
       "      <td>&lt;a href=\"http://twitter.com/download/iphone\" r...</td>\n",
       "      <td>After so many requests, this is Bretagne. She ...</td>\n",
       "      <td>NaN</td>\n",
       "      <td>NaN</td>\n",
       "      <td>NaT</td>\n",
       "      <td>https://twitter.com/dog_rates/status/740373189...</td>\n",
       "      <td>9.0</td>\n",
       "      <td>11.0</td>\n",
       "      <td>None</td>\n",
       "      <td>None</td>\n",
       "      <td>None</td>\n",
       "      <td>None</td>\n",
       "      <td>None</td>\n",
       "    </tr>\n",
       "  </tbody>\n",
       "</table>\n",
       "</div>"
      ],
      "text/plain": [
       "          tweet_id  in_reply_to_status_id  in_reply_to_user_id  \\\n",
       "342   8.320886e+17           8.320875e+17           30582082.0   \n",
       "1068  7.403732e+17                    NaN                  NaN   \n",
       "\n",
       "                     timestamp  \\\n",
       "342  2017-02-16 04:45:50+00:00   \n",
       "1068 2016-06-08 02:41:38+00:00   \n",
       "\n",
       "                                                 source  \\\n",
       "342   <a href=\"http://twitter.com/download/iphone\" r...   \n",
       "1068  <a href=\"http://twitter.com/download/iphone\" r...   \n",
       "\n",
       "                                                   text  retweeted_status_id  \\\n",
       "342            @docmisterio account started on 11/15/15                  NaN   \n",
       "1068  After so many requests, this is Bretagne. She ...                  NaN   \n",
       "\n",
       "      retweeted_status_user_id retweeted_status_timestamp  \\\n",
       "342                        NaN                        NaT   \n",
       "1068                       NaN                        NaT   \n",
       "\n",
       "                                          expanded_urls  rating_numerator  \\\n",
       "342                                                 NaN              11.0   \n",
       "1068  https://twitter.com/dog_rates/status/740373189...               9.0   \n",
       "\n",
       "      rating_denominator  name doggo floofer pupper puppo  \n",
       "342                 15.0  None  None    None   None  None  \n",
       "1068                11.0  None  None    None   None  None  "
      ]
     },
     "execution_count": 25,
     "metadata": {},
     "output_type": "execute_result"
    }
   ],
   "source": [
    "df_twitter[df_twitter.rating_denominator != 10]"
   ]
  },
  {
   "cell_type": "markdown",
   "id": "55c196b5",
   "metadata": {},
   "source": [
    "### Code:"
   ]
  },
  {
   "cell_type": "code",
   "execution_count": 26,
   "id": "09656619",
   "metadata": {},
   "outputs": [],
   "source": [
    "df_twitter.loc[342, 'rating_denominator'] = 10\n",
    "df_twitter.loc[1068, 'rating_denominator'] = 10"
   ]
  },
  {
   "cell_type": "code",
   "execution_count": 27,
   "id": "d60efc64",
   "metadata": {},
   "outputs": [],
   "source": [
    "df_twitter.loc[342, 'rating_numerator'] = 11/15*10\n",
    "df_twitter.loc[1068, 'rating_numerator'] = 9/11*10"
   ]
  },
  {
   "cell_type": "markdown",
   "id": "fd4477c2",
   "metadata": {},
   "source": [
    "### Test:"
   ]
  },
  {
   "cell_type": "code",
   "execution_count": null,
   "id": "9d81ccaa",
   "metadata": {},
   "outputs": [],
   "source": [
    "df_twitter.loc[342]"
   ]
  },
  {
   "cell_type": "code",
   "execution_count": null,
   "id": "11f914de",
   "metadata": {},
   "outputs": [],
   "source": [
    "df_twitter.loc[1068]"
   ]
  },
  {
   "cell_type": "code",
   "execution_count": 28,
   "id": "42d3815f",
   "metadata": {},
   "outputs": [
    {
     "data": {
      "text/plain": [
       "0"
      ]
     },
     "execution_count": 28,
     "metadata": {},
     "output_type": "execute_result"
    }
   ],
   "source": [
    "df_twitter[df_twitter.rating_denominator != 10].count().sum()"
   ]
  },
  {
   "cell_type": "markdown",
   "id": "b73a4b06",
   "metadata": {},
   "source": [
    "## Issue #9:"
   ]
  },
  {
   "cell_type": "markdown",
   "id": "ba40cccd",
   "metadata": {},
   "source": [
    "### Define:"
   ]
  },
  {
   "cell_type": "markdown",
   "id": "c59a8399",
   "metadata": {},
   "source": [
    "All 'None' values in 'name' column should represent missing value. I will replace 'None' with NaN."
   ]
  },
  {
   "cell_type": "markdown",
   "id": "7ea14b29",
   "metadata": {},
   "source": [
    "### Code:"
   ]
  },
  {
   "cell_type": "code",
   "execution_count": 29,
   "id": "783c7bcb",
   "metadata": {},
   "outputs": [],
   "source": [
    "df_twitter.name.replace('None',np.nan,inplace=True)"
   ]
  },
  {
   "cell_type": "markdown",
   "id": "762f1319",
   "metadata": {},
   "source": [
    "### Test:"
   ]
  },
  {
   "cell_type": "code",
   "execution_count": 30,
   "id": "e8eff419",
   "metadata": {},
   "outputs": [
    {
     "data": {
      "text/plain": [
       "0"
      ]
     },
     "execution_count": 30,
     "metadata": {},
     "output_type": "execute_result"
    }
   ],
   "source": [
    "df_twitter[df_twitter['name']=='None'].count().sum()"
   ]
  },
  {
   "cell_type": "markdown",
   "id": "98692f17",
   "metadata": {},
   "source": [
    "-----------------------"
   ]
  },
  {
   "cell_type": "markdown",
   "id": "01e69977",
   "metadata": {},
   "source": [
    "## Issue #10:"
   ]
  },
  {
   "cell_type": "markdown",
   "id": "b608d73f",
   "metadata": {},
   "source": [
    "### Define:"
   ]
  },
  {
   "cell_type": "markdown",
   "id": "6be71d90",
   "metadata": {},
   "source": [
    "Information about dog's stage should be placed in one column. I will combine 'doggo', 'floofer', 'pupper', 'puppo' columns into one column called 'stage'. I will also replace empty cells with NaN values."
   ]
  },
  {
   "cell_type": "markdown",
   "id": "8685d02a",
   "metadata": {},
   "source": [
    "### Code:"
   ]
  },
  {
   "cell_type": "code",
   "execution_count": 31,
   "id": "2d163972",
   "metadata": {},
   "outputs": [],
   "source": [
    "df_twitter.doggo.replace('None','',inplace=True)\n",
    "df_twitter.floofer.replace('None','',inplace=True)\n",
    "df_twitter.pupper.replace('None','',inplace=True)\n",
    "df_twitter.puppo.replace('None','',inplace=True)"
   ]
  },
  {
   "cell_type": "code",
   "execution_count": 32,
   "id": "4e65b80b",
   "metadata": {},
   "outputs": [],
   "source": [
    "df_twitter['stage'] = df_twitter['doggo'] + df_twitter['floofer'] + df_twitter['pupper'] + df_twitter['puppo']"
   ]
  },
  {
   "cell_type": "code",
   "execution_count": 33,
   "id": "96c3ead7",
   "metadata": {},
   "outputs": [],
   "source": [
    "df_twitter.stage.replace('',np.nan,inplace=True)"
   ]
  },
  {
   "cell_type": "code",
   "execution_count": 34,
   "id": "03d1d6ba",
   "metadata": {},
   "outputs": [
    {
     "data": {
      "text/plain": [
       "pupper          212\n",
       "doggo            75\n",
       "puppo            24\n",
       "doggopupper       9\n",
       "floofer           9\n",
       "doggopuppo        1\n",
       "doggofloofer      1\n",
       "Name: stage, dtype: int64"
      ]
     },
     "execution_count": 34,
     "metadata": {},
     "output_type": "execute_result"
    }
   ],
   "source": [
    "df_twitter.stage.value_counts()"
   ]
  },
  {
   "cell_type": "markdown",
   "id": "7a33909e",
   "metadata": {},
   "source": [
    "- As we can find above there are some rows with mixed stages (doggopupper, doggopuppo and doggofloofer). This is because some pictures include more than one dog. I will replace these cells with NaN values."
   ]
  },
  {
   "cell_type": "code",
   "execution_count": 35,
   "id": "727cfdfe",
   "metadata": {},
   "outputs": [],
   "source": [
    "wrong_stages = ['doggopupper', 'doggopuppo', 'doggofloofer']\n",
    "for i in wrong_stages:\n",
    "    df_twitter.stage.replace(i,np.nan,inplace=True)"
   ]
  },
  {
   "cell_type": "markdown",
   "id": "42ec3b03",
   "metadata": {},
   "source": [
    "### Test:"
   ]
  },
  {
   "cell_type": "code",
   "execution_count": 36,
   "id": "adb35c0d",
   "metadata": {},
   "outputs": [
    {
     "data": {
      "text/plain": [
       "pupper     212\n",
       "doggo       75\n",
       "puppo       24\n",
       "floofer      9\n",
       "Name: stage, dtype: int64"
      ]
     },
     "execution_count": 36,
     "metadata": {},
     "output_type": "execute_result"
    }
   ],
   "source": [
    "df_twitter.stage.value_counts()"
   ]
  },
  {
   "cell_type": "code",
   "execution_count": 37,
   "id": "4cda95bc",
   "metadata": {},
   "outputs": [
    {
     "data": {
      "text/plain": [
       "1654"
      ]
     },
     "execution_count": 37,
     "metadata": {},
     "output_type": "execute_result"
    }
   ],
   "source": [
    "df_twitter.stage.isnull().sum()"
   ]
  },
  {
   "cell_type": "markdown",
   "id": "2ff61e34",
   "metadata": {},
   "source": [
    "----------------"
   ]
  },
  {
   "cell_type": "markdown",
   "id": "51c6ceef",
   "metadata": {},
   "source": [
    "## Issue #11:"
   ]
  },
  {
   "cell_type": "markdown",
   "id": "9161188f",
   "metadata": {},
   "source": [
    "### Define:"
   ]
  },
  {
   "cell_type": "markdown",
   "id": "08f7cddb",
   "metadata": {},
   "source": [
    "Information about dog's breed can be found in three different columns ('p1','p2','p3'). If 'p1' is not a dog I will try to find dog's breed in columns 'p2' and 'p3'. I will place this information in one column called 'breed'."
   ]
  },
  {
   "cell_type": "markdown",
   "id": "3f55ba26",
   "metadata": {},
   "source": [
    "### Code:"
   ]
  },
  {
   "cell_type": "code",
   "execution_count": 38,
   "id": "a30fd196",
   "metadata": {},
   "outputs": [],
   "source": [
    "df_image['breed'] = np.nan\n",
    "for i in range(df_image.shape[0]):\n",
    "    is_dog1 = df_image.at[i,'p1_dog']\n",
    "    is_dog2 = df_image.at[i,'p2_dog']\n",
    "    is_dog3 = df_image.at[i,'p3_dog']\n",
    "    if is_dog1 == True:\n",
    "        df_image.loc[[i],['breed']] = df_image.at[i,'p1']\n",
    "    elif is_dog2 == True:\n",
    "        df_image.loc[[i],['breed']] = df_image.at[i,'p2']\n",
    "    elif is_dog3 == True:\n",
    "        df_image.loc[[i],['breed']] = df_image.at[i,'p3']"
   ]
  },
  {
   "cell_type": "markdown",
   "id": "f6df7b21",
   "metadata": {},
   "source": [
    "### Test:"
   ]
  },
  {
   "cell_type": "code",
   "execution_count": null,
   "id": "3f1bb0c4",
   "metadata": {},
   "outputs": [],
   "source": [
    "df_image.head(30)"
   ]
  },
  {
   "cell_type": "markdown",
   "id": "df46c817",
   "metadata": {},
   "source": [
    "----------------"
   ]
  },
  {
   "cell_type": "markdown",
   "id": "28a20765",
   "metadata": {},
   "source": [
    "## Issue #12:"
   ]
  },
  {
   "cell_type": "markdown",
   "id": "d2989ee1",
   "metadata": {},
   "source": [
    "### Define:"
   ]
  },
  {
   "cell_type": "markdown",
   "id": "d8570a75",
   "metadata": {},
   "source": [
    "One dataframe (df_master) instead of three would be sufficient. Both merges will be the 'outer' merges since at this point I do not want to lose any data.<br>\n",
    "df_master dataframe will have the following columns:<br>'tweet_id'<br>'rating_numerator'<br>'retweet_count'<br>'favorite_count'<br>'stage'<br>'breed'<br>"
   ]
  },
  {
   "cell_type": "markdown",
   "id": "fe3be73a",
   "metadata": {},
   "source": [
    "### Code:"
   ]
  },
  {
   "cell_type": "code",
   "execution_count": 41,
   "id": "9784acfd",
   "metadata": {},
   "outputs": [],
   "source": [
    "df_twitter_image = df_twitter.merge(df_image, left_on='tweet_id', right_on='tweet_id', how='outer')"
   ]
  },
  {
   "cell_type": "code",
   "execution_count": 42,
   "id": "2484e4b1",
   "metadata": {},
   "outputs": [],
   "source": [
    "df_master = df_twitter_image.merge(df_api, left_on='tweet_id', right_on='id', how='outer')[['tweet_id','rating_numerator','retweet_count','favorite_count','stage','breed']]"
   ]
  },
  {
   "cell_type": "markdown",
   "id": "09e9252b",
   "metadata": {},
   "source": [
    "### Test:"
   ]
  },
  {
   "cell_type": "code",
   "execution_count": 43,
   "id": "821220f4",
   "metadata": {},
   "outputs": [
    {
     "data": {
      "text/html": [
       "<div>\n",
       "<style scoped>\n",
       "    .dataframe tbody tr th:only-of-type {\n",
       "        vertical-align: middle;\n",
       "    }\n",
       "\n",
       "    .dataframe tbody tr th {\n",
       "        vertical-align: top;\n",
       "    }\n",
       "\n",
       "    .dataframe thead th {\n",
       "        text-align: right;\n",
       "    }\n",
       "</style>\n",
       "<table border=\"1\" class=\"dataframe\">\n",
       "  <thead>\n",
       "    <tr style=\"text-align: right;\">\n",
       "      <th></th>\n",
       "      <th>tweet_id</th>\n",
       "      <th>rating_numerator</th>\n",
       "      <th>retweet_count</th>\n",
       "      <th>favorite_count</th>\n",
       "      <th>stage</th>\n",
       "      <th>breed</th>\n",
       "    </tr>\n",
       "  </thead>\n",
       "  <tbody>\n",
       "    <tr>\n",
       "      <th>0</th>\n",
       "      <td>8.924206e+17</td>\n",
       "      <td>13.0</td>\n",
       "      <td>NaN</td>\n",
       "      <td>NaN</td>\n",
       "      <td>NaN</td>\n",
       "      <td>NaN</td>\n",
       "    </tr>\n",
       "    <tr>\n",
       "      <th>1</th>\n",
       "      <td>8.924206e+17</td>\n",
       "      <td>NaN</td>\n",
       "      <td>NaN</td>\n",
       "      <td>NaN</td>\n",
       "      <td>NaN</td>\n",
       "      <td>NaN</td>\n",
       "    </tr>\n",
       "    <tr>\n",
       "      <th>2</th>\n",
       "      <td>8.921774e+17</td>\n",
       "      <td>13.0</td>\n",
       "      <td>NaN</td>\n",
       "      <td>NaN</td>\n",
       "      <td>NaN</td>\n",
       "      <td>NaN</td>\n",
       "    </tr>\n",
       "    <tr>\n",
       "      <th>3</th>\n",
       "      <td>8.921774e+17</td>\n",
       "      <td>NaN</td>\n",
       "      <td>NaN</td>\n",
       "      <td>NaN</td>\n",
       "      <td>NaN</td>\n",
       "      <td>Chihuahua</td>\n",
       "    </tr>\n",
       "    <tr>\n",
       "      <th>4</th>\n",
       "      <td>8.918152e+17</td>\n",
       "      <td>12.0</td>\n",
       "      <td>4328.0</td>\n",
       "      <td>25461.0</td>\n",
       "      <td>NaN</td>\n",
       "      <td>Chihuahua</td>\n",
       "    </tr>\n",
       "  </tbody>\n",
       "</table>\n",
       "</div>"
      ],
      "text/plain": [
       "       tweet_id  rating_numerator  retweet_count  favorite_count stage  \\\n",
       "0  8.924206e+17              13.0            NaN             NaN   NaN   \n",
       "1  8.924206e+17               NaN            NaN             NaN   NaN   \n",
       "2  8.921774e+17              13.0            NaN             NaN   NaN   \n",
       "3  8.921774e+17               NaN            NaN             NaN   NaN   \n",
       "4  8.918152e+17              12.0         4328.0         25461.0   NaN   \n",
       "\n",
       "       breed  \n",
       "0        NaN  \n",
       "1        NaN  \n",
       "2        NaN  \n",
       "3  Chihuahua  \n",
       "4  Chihuahua  "
      ]
     },
     "execution_count": 43,
     "metadata": {},
     "output_type": "execute_result"
    }
   ],
   "source": [
    "df_master.head()"
   ]
  },
  {
   "cell_type": "markdown",
   "id": "9530b26d",
   "metadata": {},
   "source": [
    "-------------"
   ]
  },
  {
   "cell_type": "markdown",
   "id": "dc4257e9",
   "metadata": {},
   "source": [
    "<a id='part4'></a>\n",
    "# Storing Data"
   ]
  },
  {
   "cell_type": "code",
   "execution_count": 44,
   "id": "b7df08c5",
   "metadata": {},
   "outputs": [],
   "source": [
    "df_master.to_csv('twitter_archive_master.csv',index=False)"
   ]
  },
  {
   "cell_type": "markdown",
   "id": "c533487d",
   "metadata": {},
   "source": [
    "--------------"
   ]
  },
  {
   "cell_type": "markdown",
   "id": "d537c190",
   "metadata": {},
   "source": [
    "<a id='part5'></a>\n",
    "# Analyzing and Visualizing Data"
   ]
  },
  {
   "cell_type": "markdown",
   "id": "385a5a5b",
   "metadata": {},
   "source": [
    "## Insight #1:"
   ]
  },
  {
   "cell_type": "code",
   "execution_count": 45,
   "id": "abdfa813",
   "metadata": {},
   "outputs": [
    {
     "data": {
      "text/plain": [
       "stage\n",
       "doggo      11.853333\n",
       "floofer    11.888889\n",
       "pupper     10.962264\n",
       "puppo      12.041667\n",
       "Name: rating_numerator, dtype: float64"
      ]
     },
     "execution_count": 45,
     "metadata": {},
     "output_type": "execute_result"
    }
   ],
   "source": [
    "df_master.groupby(['stage'])['rating_numerator'].mean()"
   ]
  },
  {
   "cell_type": "markdown",
   "id": "b78bf61c",
   "metadata": {},
   "source": [
    "**The puppo stage has the highest average rating.**"
   ]
  },
  {
   "cell_type": "markdown",
   "id": "dbda85a8",
   "metadata": {},
   "source": [
    "## Insight #2:"
   ]
  },
  {
   "cell_type": "code",
   "execution_count": 46,
   "id": "2c63f7a5",
   "metadata": {},
   "outputs": [
    {
     "data": {
      "text/plain": [
       "stage\n",
       "doggo      4548.022727\n",
       "floofer    2298.500000\n",
       "pupper     2235.470199\n",
       "puppo      4577.235294\n",
       "Name: retweet_count, dtype: float64"
      ]
     },
     "execution_count": 46,
     "metadata": {},
     "output_type": "execute_result"
    }
   ],
   "source": [
    "df_master.groupby(['stage'])['retweet_count'].mean()"
   ]
  },
  {
   "cell_type": "markdown",
   "id": "6aaea081",
   "metadata": {},
   "source": [
    "**The puppo stage has the highest average number of retweets.**"
   ]
  },
  {
   "cell_type": "markdown",
   "id": "343ba950",
   "metadata": {},
   "source": [
    "## Insight #3:"
   ]
  },
  {
   "cell_type": "code",
   "execution_count": 47,
   "id": "7c62fb92",
   "metadata": {},
   "outputs": [
    {
     "data": {
      "text/plain": [
       "stage\n",
       "doggo      13336.454545\n",
       "floofer     5913.750000\n",
       "pupper      6623.874172\n",
       "puppo      14867.941176\n",
       "Name: favorite_count, dtype: float64"
      ]
     },
     "execution_count": 47,
     "metadata": {},
     "output_type": "execute_result"
    }
   ],
   "source": [
    "df_master.groupby(['stage'])['favorite_count'].mean()"
   ]
  },
  {
   "cell_type": "markdown",
   "id": "3861187f",
   "metadata": {},
   "source": [
    "**The puppo stage has the highest average number of people who liked the tweet.**"
   ]
  },
  {
   "cell_type": "markdown",
   "id": "b78812ab",
   "metadata": {},
   "source": [
    "## Insight #4:"
   ]
  },
  {
   "cell_type": "markdown",
   "id": "dd260bf5",
   "metadata": {},
   "source": [
    "For breeds that appear more than 10 times let's find out which breed performs best:"
   ]
  },
  {
   "cell_type": "markdown",
   "id": "8b58e7ad",
   "metadata": {},
   "source": [
    "- creation of dataframe with breeds that appear more than 10 times:"
   ]
  },
  {
   "cell_type": "code",
   "execution_count": 48,
   "id": "881742e5",
   "metadata": {},
   "outputs": [],
   "source": [
    "df_breed_count = df_master.groupby(['breed'])[['tweet_id','breed']].count()"
   ]
  },
  {
   "cell_type": "code",
   "execution_count": 49,
   "id": "8f3cc13c",
   "metadata": {},
   "outputs": [],
   "source": [
    "df_breed_count_morethan10 = df_breed_count[df_breed_count.tweet_id > 10]"
   ]
  },
  {
   "cell_type": "markdown",
   "id": "deab44aa",
   "metadata": {},
   "source": [
    "- creation of dataframe with average performance for each breed:"
   ]
  },
  {
   "cell_type": "code",
   "execution_count": 50,
   "id": "fcfb0e64",
   "metadata": {},
   "outputs": [],
   "source": [
    "df_breed_performance = df_master.groupby(['breed'])[['rating_numerator','retweet_count','favorite_count']].mean()"
   ]
  },
  {
   "cell_type": "markdown",
   "id": "4c70ed09",
   "metadata": {},
   "source": [
    "- dataframe with average performance for breeds that appear more than 10 times:"
   ]
  },
  {
   "cell_type": "code",
   "execution_count": 51,
   "id": "ad02bd6d",
   "metadata": {},
   "outputs": [],
   "source": [
    "df_breed = pd.merge(df_breed_count_morethan10, df_breed_performance, left_index=True, right_index=True, how='left')[['rating_numerator','retweet_count','favorite_count']]"
   ]
  },
  {
   "cell_type": "markdown",
   "id": "60e68078",
   "metadata": {},
   "source": [
    "--------------------"
   ]
  },
  {
   "cell_type": "code",
   "execution_count": 52,
   "id": "a158c1ef",
   "metadata": {},
   "outputs": [
    {
     "data": {
      "text/html": [
       "<div>\n",
       "<style scoped>\n",
       "    .dataframe tbody tr th:only-of-type {\n",
       "        vertical-align: middle;\n",
       "    }\n",
       "\n",
       "    .dataframe tbody tr th {\n",
       "        vertical-align: top;\n",
       "    }\n",
       "\n",
       "    .dataframe thead th {\n",
       "        text-align: right;\n",
       "    }\n",
       "</style>\n",
       "<table border=\"1\" class=\"dataframe\">\n",
       "  <thead>\n",
       "    <tr style=\"text-align: right;\">\n",
       "      <th></th>\n",
       "      <th>rating_numerator</th>\n",
       "      <th>retweet_count</th>\n",
       "      <th>favorite_count</th>\n",
       "    </tr>\n",
       "    <tr>\n",
       "      <th>breed</th>\n",
       "      <th></th>\n",
       "      <th></th>\n",
       "      <th></th>\n",
       "    </tr>\n",
       "  </thead>\n",
       "  <tbody>\n",
       "    <tr>\n",
       "      <th>Siberian_husky</th>\n",
       "      <td>12.000000</td>\n",
       "      <td>2231.090909</td>\n",
       "      <td>9529.545455</td>\n",
       "    </tr>\n",
       "    <tr>\n",
       "      <th>borzoi</th>\n",
       "      <td>11.750000</td>\n",
       "      <td>1211.428571</td>\n",
       "      <td>3068.000000</td>\n",
       "    </tr>\n",
       "    <tr>\n",
       "      <th>Samoyed</th>\n",
       "      <td>11.666667</td>\n",
       "      <td>3868.590909</td>\n",
       "      <td>12626.227273</td>\n",
       "    </tr>\n",
       "  </tbody>\n",
       "</table>\n",
       "</div>"
      ],
      "text/plain": [
       "                rating_numerator  retweet_count  favorite_count\n",
       "breed                                                          \n",
       "Siberian_husky         12.000000    2231.090909     9529.545455\n",
       "borzoi                 11.750000    1211.428571     3068.000000\n",
       "Samoyed                11.666667    3868.590909    12626.227273"
      ]
     },
     "execution_count": 52,
     "metadata": {},
     "output_type": "execute_result"
    }
   ],
   "source": [
    "df_breed.sort_values(by=['rating_numerator'],ascending=False).head(3)"
   ]
  },
  {
   "cell_type": "markdown",
   "id": "808b97b5",
   "metadata": {},
   "source": [
    "**Siberian_husky, borzoi and Samoyed are the breeds that had the highest average rating.**"
   ]
  },
  {
   "cell_type": "markdown",
   "id": "d52f1d15",
   "metadata": {},
   "source": [
    "-------------------"
   ]
  },
  {
   "cell_type": "code",
   "execution_count": 53,
   "id": "78b86dc9",
   "metadata": {},
   "outputs": [
    {
     "data": {
      "text/html": [
       "<div>\n",
       "<style scoped>\n",
       "    .dataframe tbody tr th:only-of-type {\n",
       "        vertical-align: middle;\n",
       "    }\n",
       "\n",
       "    .dataframe tbody tr th {\n",
       "        vertical-align: top;\n",
       "    }\n",
       "\n",
       "    .dataframe thead th {\n",
       "        text-align: right;\n",
       "    }\n",
       "</style>\n",
       "<table border=\"1\" class=\"dataframe\">\n",
       "  <thead>\n",
       "    <tr style=\"text-align: right;\">\n",
       "      <th></th>\n",
       "      <th>rating_numerator</th>\n",
       "      <th>retweet_count</th>\n",
       "      <th>favorite_count</th>\n",
       "    </tr>\n",
       "    <tr>\n",
       "      <th>breed</th>\n",
       "      <th></th>\n",
       "      <th></th>\n",
       "      <th></th>\n",
       "    </tr>\n",
       "  </thead>\n",
       "  <tbody>\n",
       "    <tr>\n",
       "      <th>standard_poodle</th>\n",
       "      <td>11.000000</td>\n",
       "      <td>13328.428571</td>\n",
       "      <td>17490.142857</td>\n",
       "    </tr>\n",
       "    <tr>\n",
       "      <th>whippet</th>\n",
       "      <td>10.000000</td>\n",
       "      <td>5311.222222</td>\n",
       "      <td>13935.666667</td>\n",
       "    </tr>\n",
       "    <tr>\n",
       "      <th>Cardigan</th>\n",
       "      <td>11.285714</td>\n",
       "      <td>4988.352941</td>\n",
       "      <td>12395.647059</td>\n",
       "    </tr>\n",
       "  </tbody>\n",
       "</table>\n",
       "</div>"
      ],
      "text/plain": [
       "                 rating_numerator  retweet_count  favorite_count\n",
       "breed                                                           \n",
       "standard_poodle         11.000000   13328.428571    17490.142857\n",
       "whippet                 10.000000    5311.222222    13935.666667\n",
       "Cardigan                11.285714    4988.352941    12395.647059"
      ]
     },
     "execution_count": 53,
     "metadata": {},
     "output_type": "execute_result"
    }
   ],
   "source": [
    "df_breed.sort_values(by=['retweet_count'],ascending=False).head(3)"
   ]
  },
  {
   "cell_type": "markdown",
   "id": "79f2cc22",
   "metadata": {},
   "source": [
    "**standard_poodle, whippet and Cardigan are the breeds that had the highest average number of retweets.**"
   ]
  },
  {
   "cell_type": "markdown",
   "id": "f9736b5d",
   "metadata": {},
   "source": [
    "--------------------------"
   ]
  },
  {
   "cell_type": "code",
   "execution_count": 54,
   "id": "a9280a33",
   "metadata": {},
   "outputs": [
    {
     "data": {
      "text/html": [
       "<div>\n",
       "<style scoped>\n",
       "    .dataframe tbody tr th:only-of-type {\n",
       "        vertical-align: middle;\n",
       "    }\n",
       "\n",
       "    .dataframe tbody tr th {\n",
       "        vertical-align: top;\n",
       "    }\n",
       "\n",
       "    .dataframe thead th {\n",
       "        text-align: right;\n",
       "    }\n",
       "</style>\n",
       "<table border=\"1\" class=\"dataframe\">\n",
       "  <thead>\n",
       "    <tr style=\"text-align: right;\">\n",
       "      <th></th>\n",
       "      <th>rating_numerator</th>\n",
       "      <th>retweet_count</th>\n",
       "      <th>favorite_count</th>\n",
       "    </tr>\n",
       "    <tr>\n",
       "      <th>breed</th>\n",
       "      <th></th>\n",
       "      <th></th>\n",
       "      <th></th>\n",
       "    </tr>\n",
       "  </thead>\n",
       "  <tbody>\n",
       "    <tr>\n",
       "      <th>standard_poodle</th>\n",
       "      <td>11.000000</td>\n",
       "      <td>13328.428571</td>\n",
       "      <td>17490.142857</td>\n",
       "    </tr>\n",
       "    <tr>\n",
       "      <th>French_bulldog</th>\n",
       "      <td>11.136364</td>\n",
       "      <td>4284.363636</td>\n",
       "      <td>15596.000000</td>\n",
       "    </tr>\n",
       "    <tr>\n",
       "      <th>basset</th>\n",
       "      <td>11.666667</td>\n",
       "      <td>3178.500000</td>\n",
       "      <td>14656.400000</td>\n",
       "    </tr>\n",
       "  </tbody>\n",
       "</table>\n",
       "</div>"
      ],
      "text/plain": [
       "                 rating_numerator  retweet_count  favorite_count\n",
       "breed                                                           \n",
       "standard_poodle         11.000000   13328.428571    17490.142857\n",
       "French_bulldog          11.136364    4284.363636    15596.000000\n",
       "basset                  11.666667    3178.500000    14656.400000"
      ]
     },
     "execution_count": 54,
     "metadata": {},
     "output_type": "execute_result"
    }
   ],
   "source": [
    "df_breed.sort_values(by=['favorite_count'],ascending=False).head(3)"
   ]
  },
  {
   "cell_type": "markdown",
   "id": "ea8dbf74",
   "metadata": {},
   "source": [
    "**standard_poodle, French_bulldog and basset are the breeds that had the highest average number of likes.**"
   ]
  },
  {
   "cell_type": "markdown",
   "id": "ebcfc3b2",
   "metadata": {},
   "source": [
    "##  Visualization #1:"
   ]
  },
  {
   "cell_type": "markdown",
   "id": "5a9615cd",
   "metadata": {},
   "source": [
    "**Above scatter plot shows that number of people who retweeted the tweet is positively correlated with tweet's rating.**"
   ]
  },
  {
   "cell_type": "code",
   "execution_count": 58,
   "id": "8ae449b3",
   "metadata": {},
   "outputs": [
    {
     "data": {
      "image/png": "[encoded data removed]",
      "text/plain": [
       "<Figure size 432x288 with 1 Axes>"
      ]
     },
     "metadata": {
      "needs_background": "light"
     },
     "output_type": "display_data"
    }
   ],
   "source": [
    "df_master.plot(x='rating_numerator',y='retweet_count',kind='scatter', title='number of retweets in relation to rating for each tweet');"
   ]
  },
  {
   "cell_type": "markdown",
   "id": "2af1e459",
   "metadata": {},
   "source": [
    "##  Visualization #2:"
   ]
  },
  {
   "cell_type": "code",
   "execution_count": 59,
   "id": "acf567f7",
   "metadata": {},
   "outputs": [
    {
     "data": {
      "image/png": "[encoded data removed]",
      "text/plain": [
       "<Figure size 432x288 with 1 Axes>"
      ]
     },
     "metadata": {
      "needs_background": "light"
     },
     "output_type": "display_data"
    }
   ],
   "source": [
    "df_master.plot(x='rating_numerator',y='favorite_count',kind='scatter', title='number of likes in relation to rating for each tweet');"
   ]
  },
  {
   "cell_type": "markdown",
   "id": "9d785cb3",
   "metadata": {},
   "source": [
    "**Above scatter plot shows that number of people who liked the tweet is positively correlated with tweet's rating.**"
   ]
  }
 ],
 "metadata": {
  "kernelspec": {
   "display_name": "Python 3 (ipykernel)",
   "language": "python",
   "name": "python3"
  },
  "language_info": {
   "codemirror_mode": {
    "name": "ipython",
    "version": 3
   },
   "file_extension": ".py",
   "mimetype": "text/x-python",
   "name": "python",
   "nbconvert_exporter": "python",
   "pygments_lexer": "ipython3",
   "version": "3.8.11"
  }
 },
 "nbformat": 4,
 "nbformat_minor": 5
}
